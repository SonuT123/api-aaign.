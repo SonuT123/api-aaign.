{
 "cells": [
  {
   "cell_type": "markdown",
   "id": "e73066c0-3230-4841-9e77-75ffb3f69f63",
   "metadata": {},
   "source": [
    "                                                   Assignment web API"
   ]
  },
  {
   "cell_type": "markdown",
   "id": "b95af77a-1b67-4a26-932d-7bd2cc29a85e",
   "metadata": {},
   "source": [
    "Q1. What is an API? Give an example, where an API is used in real life."
   ]
  },
  {
   "cell_type": "markdown",
   "id": "8ef7d5b6-4878-497d-bb06-dee87eebe6a5",
   "metadata": {},
   "source": [
    "    API:- API (application programming interface) is a set of rules that allow two pieces of software to talk to each other.\n",
    "          APIs are used all the time in real life, and you probably use them without even realizing it.\n",
    "        \n",
    "        example:-when you use a weather app on your phone, the app is using an API to get the latest weather data from a weather service.\n",
    "                 The app doesn't need to know how the weather service works, it just needs to know how to use the API.\n",
    "            \n",
    "         API is the Google Maps API. This API allows developers to create maps and other location-based features in their own apps.\n",
    "        \n",
    "         the Uber app uses the Google Maps API to show you a map of your current location and the location of your ride.   \n",
    "            \n",
    "            \n",
    "        >The Twitter API allows developers to create apps that interact with Twitter.\n",
    "        >The PayPal API allows developers to create apps that allow users to make payments with PayPal.\n",
    "        >The Google Calendar API allows developers to create apps that interact with Google Calendar.\n",
    "        \n",
    "        \n",
    "         examples of how APIs are used in real life:-\n",
    "            \n",
    "            >Weather apps:- Weather apps use APIs to get the latest weather data from weather services.\n",
    "                            This allows the apps to show you up-to-date weather information, such as the current temperature,\n",
    "                            forecast, and precipitation.\n",
    "                    \n",
    "            >E-commerce websites:-: E-commerce websites use APIs to allow customers to make purchases.\n",
    "                                     When you add an item to your cart on an e-commerce website,\n",
    "                                     the website uses an API to communicate with the payment processor to process your payment.\n",
    "            >Social media platforms:-Social media platforms use APIs to allow developers to create third-party apps that interact\n",
    "                                     with the platform."
   ]
  },
  {
   "cell_type": "markdown",
   "id": "c5ff3b99-c5c4-41a9-8adb-188ead2fc3f0",
   "metadata": {},
   "source": [
    "Q2. Give advantages and disadvantages of using API."
   ]
  },
  {
   "cell_type": "markdown",
   "id": "ba2191de-1d42-484d-bb71-8da3e24a4380",
   "metadata": {},
   "source": [
    "  Advantages:-\n",
    "    \n",
    "    1.Increased Interoperability: API solutions enable different software systems to communicate with each other,\n",
    "        regardless of their programming language or platform. This enhances the interoperability between systems, \n",
    "        allowing for the exchange of data and functionality.\n",
    "        \n",
    "    2.Improved Efficiency: API driven infrastructures enable developers to reuse code and functionality \n",
    "       from existing software systems, saving time and reducing the amount of code that needs to be written from scratch.\n",
    "        \n",
    "    3.Better User Experience: APIs can enable third-party developers to create applications that integrate with existing \n",
    "       software systems, providing a better user experience and increased functionality.\n",
    "        \n",
    "    4.Increased Flexibility: APIs provide developers with greater flexibility, enabling them to choose the best programming\n",
    "        languages and frameworks for their needs.\n",
    "        \n",
    "    5.New Revenue Streams: APIs can enable companies to create new revenue streams by providing third-party developers \n",
    "        with access to their software systems.\n",
    "        \n",
    "    Disadvantages:-\n",
    "    \n",
    "    1.Security Concerns: API infrastructures can be vulnerable to security breaches, such as SQL injection attacks\n",
    "       and cross-site scripting (XSS) attacks, making it crucial to implement security measures to protect against these threats.\n",
    "        \n",
    "    2.Complexity: APIs can be complex, requiring a significant amount of development effort to implement and maintain.\n",
    "    \n",
    "    3.Compatibility Issues: APIs can have compatibility issues between different versions of the same software system\n",
    "       or between different systems, which can lead to errors and system failures.\n",
    "        \n",
    "    4.Dependency on Third-Party Developers: APIs rely on third-party developers to create applications that integrate\n",
    "        with the software system.\n",
    "        This can create dependencies that are outside of the control of the company that owns the software system.\n",
    "        \n",
    "    5.Governance and Management: APIs require proper governance and management to ensure they are being used correctly\n",
    "        and consistently across different applications and systems."
   ]
  },
  {
   "cell_type": "markdown",
   "id": "bded8df9-c482-4109-a6f5-f8118c37e1bd",
   "metadata": {},
   "source": [
    "Q3. What is a Web API? Differentiate between API and Web API."
   ]
  },
  {
   "cell_type": "raw",
   "id": "f8d8702d-def1-4083-b10d-b20ee863a286",
   "metadata": {},
   "source": [
    "  Web API (Web Application Programming Interface) is a type of API specifically designed to facilitate communication\n",
    "           and interaction between web-based systems. It is based on web protocols such as HTTP (Hypertext Transfer Protocol)\n",
    "           and is typically used to enable access to the functionalities of web services, web applications, or other web-based platforms.\n",
    "            \n",
    "            \n",
    "   Web Serviced:-\n",
    "    \n",
    "    1.All web services are APIs.\n",
    "    2.It supports XML.\n",
    "    3.You need a SOAP protocol to send or receive and data over the network.\n",
    "      Therefore it does not have light-weight architecture.\n",
    "    4.It can be used by any client who understands XML.\n",
    "    5.Web service uses three styles: REST, SOAP,\n",
    "      and XML-RPC for communication.\n",
    "    6.It provides supports only for the HTTP protocol.\n",
    "    \n",
    "  \tAPI:-\n",
    "    \n",
    "    1.All APIs are not web services.\n",
    "    2.Responses are formatted using Web API’s MediaTypeFormatter into XML,\n",
    "      JSON, or any other given format.\n",
    "    3.API has a light-weight architecture.\n",
    "    4.It can be used by a client who understands JSON or XML.\n",
    "    5.API can be used for any style of communication.\n",
    "    6.It provides support for the HTTP/s protocol:\n",
    "        URL Request/Response Headers, etc."
   ]
  },
  {
   "cell_type": "markdown",
   "id": "fb672374-e80a-43fb-9dda-7bbef54b8f0f",
   "metadata": {},
   "source": [
    "Q4. Explain REST and SOAP Architecture. Mention shortcomings of SOAP."
   ]
  },
  {
   "cell_type": "raw",
   "id": "f47d1560-7d96-42ef-bbb8-a77c71c78042",
   "metadata": {},
   "source": [
    " REST stands for Representational State Transfer. It is a set of architectural principles for designing web services.\n",
    "                        RESTful web services use HTTP methods (such as GET, POST, PUT, and DELETE) to access resources.\n",
    "                        The resources are identified by URIs.\n",
    "                        The data is represented in a format that is easy to understand, such as JSON or XML.\n",
    "                \n",
    "                \n",
    "                \n",
    " SOAP stands for Simple Object Access Protocol. It is a more complex architectural style for web services.\n",
    "                       SOAP uses XML to encode the messages that are sent between the client and the server. \n",
    "                       The messages are formatted according to a specific schema.\n",
    "                       SOAP also uses WSDL (Web Services Description Language) to describe the web service.\n",
    "            \n",
    "            \n",
    "            \n",
    "            Shortcomings of SOAP:-\n",
    "            \n",
    "            \n",
    "        1.Complexity: SOAP is known for its complexity due to the extensive XML-based messaging structure and the WSDL specification.\n",
    "                      It requires developers to understand and work with multiple layers of SOAP envelopes, headers, and body elements,\n",
    "                      which can make development and troubleshooting more challenging. \n",
    "                \n",
    "        2.Overhead: SOAP messages are larger in size compared to REST messages due to the XML-based format and additional SOAP envelope \n",
    "                    and header elements. This leads to increased bandwidth usage and slower network performance.\n",
    "            \n",
    "        3.Limited Language Support: SOAP was initially designed with the support of programming languages such as Java and .NET,\n",
    "                    making it less suitable for lightweight or resource-constrained environments where these languages are not prevalent.\n",
    "        \n",
    "        4.Tight Coupling: SOAP APIs often involve a tight coupling between the client and server. The contract-based approach of WSDL can\n",
    "                    result in more rigid integration, making it harder to evolve and modify the services without affecting existing clients.\n",
    "            \n",
    "        5.Lack of Human-Readability: SOAP messages are not easily human-readable due to the XML format, making it harder to inspect and debug\n",
    "                    the messages during development or troubleshooting.\n",
    "            "
   ]
  },
  {
   "cell_type": "markdown",
   "id": "32c4bc6f-7bc1-40e5-9f4b-279d421dc794",
   "metadata": {},
   "source": [
    "Q5. Differentiate between REST and SOAP."
   ]
  },
  {
   "cell_type": "markdown",
   "id": "1970eb42-faf1-4dd3-8a5d-4e5be308f541",
   "metadata": {},
   "source": [
    "    SOAP :-\n",
    "    \n",
    "    1.Relies on SOAP (Simple Object Access Protocol)\n",
    "    \n",
    "    2.Transports data in standard XML format.\n",
    "    \n",
    "    3.Because it is XML based and relies on SOAP, it works with WSDL\n",
    "    \n",
    "    4.Works over HTTP, HTTPS, SMTP, XMPP\n",
    "    \n",
    "    5.Highly structured/typed\n",
    "    \n",
    "    6.Designed with large enterprise applications in mind\n",
    "    \n",
    "    \n",
    "    \n",
    "    REST:-\n",
    "    \n",
    "    1.Relies on REST (Representational State Transfer) architecture using HTTP.\n",
    "    \n",
    "    2.Generally transports data in JSON.\n",
    "      It is based on URI. Because REST follows stateless model,\n",
    "        REST does not enforces message format as XML or JSON etc.\n",
    "    \n",
    "    3.It works with GET, POST, PUT, DELETE\n",
    "    \n",
    "    4.Works over HTTP and HTTPS\n",
    "    \n",
    "    5.Less structured -> less bulky data\n",
    "    \n",
    "    6.Designed with mobile devices in mind\n",
    "    "
   ]
  },
  {
   "cell_type": "code",
   "execution_count": null,
   "id": "03ffab25-57f1-44da-9ba9-c57031b8f142",
   "metadata": {},
   "outputs": [],
   "source": []
  }
 ],
 "metadata": {
  "kernelspec": {
   "display_name": "Python 3 (ipykernel)",
   "language": "python",
   "name": "python3"
  },
  "language_info": {
   "codemirror_mode": {
    "name": "ipython",
    "version": 3
   },
   "file_extension": ".py",
   "mimetype": "text/x-python",
   "name": "python",
   "nbconvert_exporter": "python",
   "pygments_lexer": "ipython3",
   "version": "3.10.8"
  }
 },
 "nbformat": 4,
 "nbformat_minor": 5
}
